{
 "cells": [
  {
   "cell_type": "markdown",
   "metadata": {},
   "source": [
    "# Fully Connected Networks\n",
    "\n",
    "One of the most common and wildly used architectures is Fully Connected Network (FCN) which is a stack of fully connected layers. Throughout this class, we will use fully connected layers in combination with more sophisticated layers such as Convolutional, Recurrent, Attention, etc. Therefore, it is crucial to understand fully connected layers and networks.\n",
    "\n",
    "First, we start with implementing the affine layer (a.k.a dense or fully-connected layer) in ```nn``` folder. ```AffineLayer``` inherits ```Module``` class which is responsible for gathering parameters and changing the mode of its children layers. Remember that, when we assign an ```Array``` object to a module, if the ```Array``` object is a parameter (```is_parameter``` is ```True```) then ```Module``` class (which all the layers inherit) saves that ```Array``` object to its parameters for future use.\n",
    "\n",
    "Initialize the weights using [Glorot initialization](https://proceedings.mlr.press/v9/glorot10a/glorot10a.pdf) (Assume that we use ```relu``` activation). \n",
    "\n",
    "> Complete ```AffineLayer``` in ```layers.py```\n",
    "\n",
    "We can define a neural network for classification tasks using the activation functions and affine layers. You should use at least two affine layers. The number of hidden units and the number of layers is up to you for the rest of the Neural Networks.\n",
    "\n",
    "> Complete ```FCN``` in ```layers.py``` (See ExampleFCN in ```layers.py```)\n",
    "\n",
    "Second, we will experiment with multiple activation functions and compare them on the [FashionMnist](https://www.kaggle.com/datasets/zalando-research/fashionmnist) dataset. In order to start training, we need to have a data loader and a trainer class that takes care of logging, training, and evaluation.\n",
    "\n",
    "> Complete ```Dataloader``` in ```loader.py```\n",
    "\n",
    "> Complete ```Trainer``` in ```trainer.py```\n",
    "\n",
    "> Complete ```SGD``` in ```optimization.py```\n",
    "\n",
    "![fashion-mnist](fashion-mnist-sprite.png)\n",
    "\n",
    "### Activation Function Experiments\n",
    "\n",
    "- We start by dividing the dataset into the test, evaluation, and train sets.\n",
    "\n",
    "- Run ```train_fcn``` function for each activation function and save the logs\n"
   ]
  },
  {
   "cell_type": "code",
   "execution_count": 59,
   "metadata": {},
   "outputs": [
    {
     "name": "stdout",
     "output_type": "stream",
     "text": [
      "The autoreload extension is already loaded. To reload it, use:\n",
      "  %reload_ext autoreload\n"
     ]
    }
   ],
   "source": [
    "%load_ext autoreload\n",
    "%autoreload 2"
   ]
  },
  {
   "cell_type": "code",
   "execution_count": 60,
   "metadata": {},
   "outputs": [
    {
     "data": {
      "application/vnd.jupyter.widget-view+json": {
       "model_id": "46f9bdc716c9474fa3cd54aaf0f8b447",
       "version_major": 2,
       "version_minor": 0
      },
      "text/plain": [
       "HBox(children=(FigureWidget({\n",
       "    'data': [{'mode': 'markers+lines',\n",
       "              'name': 'accuracy',\n",
       "       …"
      ]
     },
     "execution_count": 60,
     "metadata": {},
     "output_type": "execute_result"
    }
   ],
   "source": [
    "import numpy as np\n",
    "\n",
    "from nn.layers import FCN, BatchNormFCN, DropoutFCN, MaxoutFCN\n",
    "from nn.loader import DataLoader, FashionMnistDataset\n",
    "from nn.logger import Logger\n",
    "from nn.optimization import SGD\n",
    "from nn.trainer import Train\n",
    "\n",
    "import autograd.functions\n",
    "\n",
    "\n",
    "data = FashionMnistDataset.load()\n",
    "\n",
    "indices = np.random.permutation(len(data[\"train_data\"]))\n",
    "train_loader = DataLoader(data=data[\"train_data\"][indices[:40000]],\n",
    "                          labels=data[\"train_labels\"][indices[:40000]],\n",
    "                          batch_size=32)\n",
    "eval_loader = DataLoader(data=data[\"train_data\"][indices[40000:]],\n",
    "                         labels=data[\"train_labels\"][indices[40000:]],\n",
    "                         batch_size=32)\n",
    "test_loader = DataLoader(data=data[\"test_data\"],\n",
    "                         labels=data[\"test_labels\"],\n",
    "                         batch_size=32)\n",
    "\n",
    "\n",
    "def train_fcn(network: FCN, log_name: str, logger: Logger, lr: float, l2_reg_coeff: float, epoch: int) -> Train:\n",
    "    \"\"\" Fully Connected Network Trainer\n",
    "\n",
    "    Args:\n",
    "        network (FCN): FCN or a network object that inherits FCN\n",
    "        log_name (str): Name of the log file\n",
    "        logger (Logger): Logger object that shows the training progress\n",
    "        lr (float): Learning rate\n",
    "        l2_reg_coeff (float): L2 regularization coefficient\n",
    "        epoch (int): Number of epochs to train the model\n",
    "\n",
    "    Returns:\n",
    "        Train: Trainer object\n",
    "    \"\"\"\n",
    "    logger.reset()\n",
    "    optimizer = SGD(network.parameters, lr, l2_reg_coeff)\n",
    "    train = Train(network, optimizer)\n",
    "    train.fit(train_data_loader=train_loader,\n",
    "              eval_data_loader=eval_loader, epochs=epoch, logger=logger)\n",
    "    logger.save_logs(f\"logs/{log_name}.json\")\n",
    "    return train\n",
    "\n",
    "\n",
    "logger = Logger(verbose=False, live_figure_update=True)\n",
    "logger.render()\n"
   ]
  },
  {
   "cell_type": "code",
   "execution_count": 61,
   "metadata": {},
   "outputs": [],
   "source": [
    "# Hyperparameters (You may need to tune them)\n",
    "lr = 0.0025\n",
    "l2_reg_coeff = 0.00\n",
    "\n",
    "\n",
    "fn_names = (\"relu\", \"tanh\", \"sigmoid\", \"leaky_relu\")\n",
    "for fn_name in fn_names:\n",
    "    logger.reset()\n",
    "    net = FCN(784, 10, activation_fn=getattr(autograd.functions, fn_name))\n",
    "    train_fcn(net, fn_name, logger, lr, l2_reg_coeff, epoch=15)"
   ]
  },
  {
   "cell_type": "markdown",
   "metadata": {},
   "source": [
    "You can start the experiments by running the above cell. Once all the trainings are completed and log files are saved, you can run the cell below to compare their accuracies."
   ]
  },
  {
   "cell_type": "code",
   "execution_count": 62,
   "metadata": {},
   "outputs": [
    {
     "data": {
      "application/vnd.jupyter.widget-view+json": {
       "model_id": "3072653fb4c343cebcee62cbb2aa51df",
       "version_major": 2,
       "version_minor": 0
      },
      "text/plain": [
       "FigureWidget({\n",
       "    'data': [{'legendgroup': 'BN+relu',\n",
       "              'line': {'color': '#636EFA', 'dash': 'dash'},\n",
       "              'mode': 'markers+lines',\n",
       "              'name': 'BN+relu<br>train_accuracy',\n",
       "              'type': 'scatter',\n",
       "              'uid': '855c68a5-7e03-4146-8476-88585d8b2b88',\n",
       "              'x': array([ 0,  1,  2,  3,  4,  5,  6,  7,  8,  9, 10, 11, 12, 13, 14]),\n",
       "              'y': [0.6152, 0.7371, 0.771275, 0.791, 0.80235, 0.8099, 0.8165,\n",
       "                    0.8213, 0.8251, 0.827175, 0.830675, 0.834, 0.835075, 0.835925,\n",
       "                    0.839425]},\n",
       "             {'legendgroup': 'BN+relu',\n",
       "              'line': {'color': '#636EFA', 'dash': 'dot'},\n",
       "              'mode': 'markers+lines',\n",
       "              'name': 'BN+relu<br>eval_accuracy',\n",
       "              'type': 'scatter',\n",
       "              'uid': '6f3e10f5-306a-45fd-b4b9-64465d90c64c',\n",
       "              'x': array([ 0,  1,  2,  3,  4,  5,  6,  7,  8,  9, 10, 11, 12, 13, 14]),\n",
       "              'y': [0.7167, 0.7635, 0.7896, 0.8024, 0.81205, 0.82105, 0.828,\n",
       "                    0.8278, 0.8296, 0.8357, 0.83935, 0.8403, 0.84265, 0.8441,\n",
       "                    0.84395]},\n",
       "             {'legendgroup': 'BN+tanh',\n",
       "              'line': {'color': '#EF553B', 'dash': 'dash'},\n",
       "              'mode': 'markers+lines',\n",
       "              'name': 'BN+tanh<br>train_accuracy',\n",
       "              'type': 'scatter',\n",
       "              'uid': '660e3883-d73e-4d0f-9330-0159147a1ab4',\n",
       "              'x': array([ 0,  1,  2,  3,  4,  5,  6,  7,  8,  9, 10, 11, 12, 13, 14]),\n",
       "              'y': [0.623625, 0.746175, 0.77605, 0.79145, 0.801725, 0.808625,\n",
       "                    0.814275, 0.819675, 0.823125, 0.8271, 0.829025, 0.831275,\n",
       "                    0.833175, 0.83585, 0.8377]},\n",
       "             {'legendgroup': 'BN+tanh',\n",
       "              'line': {'color': '#EF553B', 'dash': 'dot'},\n",
       "              'mode': 'markers+lines',\n",
       "              'name': 'BN+tanh<br>eval_accuracy',\n",
       "              'type': 'scatter',\n",
       "              'uid': '515ec9a6-fb14-4980-87f1-a076ffbb2e62',\n",
       "              'x': array([ 0,  1,  2,  3,  4,  5,  6,  7,  8,  9, 10, 11, 12, 13, 14]),\n",
       "              'y': [0.72655, 0.7718, 0.78895, 0.8031, 0.81215, 0.81775, 0.82335,\n",
       "                    0.8257, 0.83075, 0.83095, 0.837, 0.837, 0.838, 0.84035, 0.8432]},\n",
       "             {'legendgroup': 'BN+sigmoid',\n",
       "              'line': {'color': '#00CC96', 'dash': 'dash'},\n",
       "              'mode': 'markers+lines',\n",
       "              'name': 'BN+sigmoid<br>train_accuracy',\n",
       "              'type': 'scatter',\n",
       "              'uid': 'b3c11b37-85c4-4a8a-a19b-944606bc11c0',\n",
       "              'x': array([ 0,  1,  2,  3,  4,  5,  6,  7,  8,  9, 10, 11, 12, 13, 14]),\n",
       "              'y': [0.425325, 0.640325, 0.6805, 0.7007, 0.714675, 0.72385,\n",
       "                    0.733025, 0.739175, 0.743525, 0.748975, 0.753575, 0.75785,\n",
       "                    0.7613, 0.764375, 0.767825]},\n",
       "             {'legendgroup': 'BN+sigmoid',\n",
       "              'line': {'color': '#00CC96', 'dash': 'dot'},\n",
       "              'mode': 'markers+lines',\n",
       "              'name': 'BN+sigmoid<br>eval_accuracy',\n",
       "              'type': 'scatter',\n",
       "              'uid': '908fe2b5-6cb0-4ac9-849f-2b0910374e70',\n",
       "              'x': array([ 0,  1,  2,  3,  4,  5,  6,  7,  8,  9, 10, 11, 12, 13, 14]),\n",
       "              'y': [0.5988, 0.66825, 0.6952, 0.70805, 0.72065, 0.73435, 0.73815,\n",
       "                    0.7455, 0.75005, 0.7584, 0.76145, 0.76425, 0.76965, 0.7736,\n",
       "                    0.7757]},\n",
       "             {'legendgroup': 'BN+leaky_relu',\n",
       "              'line': {'color': '#AB63FA', 'dash': 'dash'},\n",
       "              'mode': 'markers+lines',\n",
       "              'name': 'BN+leaky_relu<br>train_accuracy',\n",
       "              'type': 'scatter',\n",
       "              'uid': '2e0357b0-15c3-4e4a-89ea-44ea4fff1b4d',\n",
       "              'x': array([ 0,  1,  2,  3,  4,  5,  6,  7,  8,  9, 10, 11, 12, 13, 14]),\n",
       "              'y': [0.599125, 0.7312, 0.764775, 0.785275, 0.7985, 0.80705,\n",
       "                    0.81265, 0.816975, 0.82175, 0.82545, 0.828375, 0.830875, 0.833,\n",
       "                    0.8354, 0.8379]},\n",
       "             {'legendgroup': 'BN+leaky_relu',\n",
       "              'line': {'color': '#AB63FA', 'dash': 'dot'},\n",
       "              'mode': 'markers+lines',\n",
       "              'name': 'BN+leaky_relu<br>eval_accuracy',\n",
       "              'type': 'scatter',\n",
       "              'uid': '300e960b-96d7-495a-b0f1-8605d3b117cb',\n",
       "              'x': array([ 0,  1,  2,  3,  4,  5,  6,  7,  8,  9, 10, 11, 12, 13, 14]),\n",
       "              'y': [0.6996, 0.76495, 0.7835, 0.80235, 0.8086, 0.81495, 0.8216,\n",
       "                    0.8189, 0.8291, 0.8337, 0.83585, 0.8372, 0.83845, 0.84225,\n",
       "                    0.84485]}],\n",
       "    'layout': {'template': '...', 'title': {'text': 'Comparison'}, 'width': 800, 'xaxis': {'title': {'text': 'epoch'}}}\n",
       "})"
      ]
     },
     "execution_count": 62,
     "metadata": {},
     "output_type": "execute_result"
    }
   ],
   "source": [
    "Logger.compare({f\"BN+{fn_name}\": f\"logs/{fn_name}.json\" for fn_name in fn_names})"
   ]
  },
  {
   "cell_type": "markdown",
   "metadata": {},
   "source": [
    "Keep the log files in your submissions.\n",
    "\n",
    "## Report\n",
    "\n",
    "Report your observations about the above experiment. Write your comments below\n",
    "\n"
   ]
  },
  {
   "cell_type": "markdown",
   "metadata": {},
   "source": []
  },
  {
   "cell_type": "markdown",
   "metadata": {},
   "source": [
    "### Layer Experiments\n",
    "\n",
    "In this experiment, we will implement and compare Fully Connected Networks with BatchNorm layer(s), Dropout layer(s), and Maxout layer(s).\n",
    "\n",
    "See the [paper](http://proceedings.mlr.press/v37/ioffe15.pdf) for details.\n",
    "\n",
    "> Complete ```BatchNorm``` layer in ```layers.py```\n",
    "\n",
    "Now we can use BatchNorm layer in an FCN. We build a new FCN called BatchNormFCN.\n",
    "\n",
    "> Complete ```BatchNormFCN``` network in ```layers.py```\n",
    "\n",
    "Run BatchNormFCN.\n"
   ]
  },
  {
   "cell_type": "code",
   "execution_count": 63,
   "metadata": {},
   "outputs": [
    {
     "data": {
      "application/vnd.jupyter.widget-view+json": {
       "model_id": "205ef5ed07074564a1d2e791b9a7c533",
       "version_major": 2,
       "version_minor": 0
      },
      "text/plain": [
       "HBox(children=(FigureWidget({\n",
       "    'data': [{'mode': 'markers+lines',\n",
       "              'name': 'accuracy',\n",
       "       …"
      ]
     },
     "execution_count": 63,
     "metadata": {},
     "output_type": "execute_result"
    }
   ],
   "source": [
    "# We will use the same logger for rest of the trainings in this experiment\n",
    "logger = Logger(verbose=False, live_figure_update=True)\n",
    "logger.render()"
   ]
  },
  {
   "cell_type": "code",
   "execution_count": 64,
   "metadata": {},
   "outputs": [
    {
     "data": {
      "text/plain": [
       "<nn.trainer.Train at 0x21674eba288>"
      ]
     },
     "execution_count": 64,
     "metadata": {},
     "output_type": "execute_result"
    }
   ],
   "source": [
    "# Hyperparameters (You may need to tune them)\n",
    "lr = 0.0025\n",
    "l2_reg_coeff = 0.0\n",
    "activation_fn = autograd.functions.leaky_relu\n",
    "\n",
    "network = BatchNormFCN(784, 10, activation_fn)\n",
    "\n",
    "train_fcn(network, \"FCN+BN\", logger, lr=lr, l2_reg_coeff=l2_reg_coeff, epoch=15)"
   ]
  },
  {
   "cell_type": "markdown",
   "metadata": {},
   "source": [
    "Next, we will implement dropout layer and build an FCN with batchnorm and dropout layers.\n",
    "\n",
    "See the [paper](https://jmlr.org/papers/volume15/srivastava14a/srivastava14a.pdf) for details.\n",
    "\n",
    "> Complete ```Dropout``` in ```layers.py```\n",
    "\n",
    "> Complete ```DropoutFCN``` in ```layers.py```\n",
    "\n"
   ]
  },
  {
   "cell_type": "code",
   "execution_count": 87,
   "metadata": {},
   "outputs": [
    {
     "data": {
      "text/plain": [
       "<nn.trainer.Train at 0x21600e2a848>"
      ]
     },
     "execution_count": 87,
     "metadata": {},
     "output_type": "execute_result"
    }
   ],
   "source": [
    "# Hyperparameters (You may need to tune them)\n",
    "lr = 0.0025\n",
    "l2_reg_coeff = 0.0\n",
    "p_drop = 0.1  # Drop probability\n",
    "activation_fn = autograd.functions.leaky_relu\n",
    "\n",
    "network = DropoutFCN(784, 10, activation_fn, p_drop=p_drop)\n",
    "train_fcn(network, \"FCN+BN+Dropout\", logger, lr=lr, l2_reg_coeff=l2_reg_coeff, epoch=15)"
   ]
  },
  {
   "cell_type": "markdown",
   "metadata": {},
   "source": [
    "Finally, we will implement and train Maxout Network with batchnorm and dropout layers.\n",
    "\n",
    "See the [paper](https://proceedings.mlr.press/v28/goodfellow13.pdf) for details.\n",
    "\n",
    "> Complete ```MaxoutFCN``` in ```layers.py```"
   ]
  },
  {
   "cell_type": "code",
   "execution_count": null,
   "metadata": {},
   "outputs": [],
   "source": [
    "# Hyperparameters (You may need to tune them)\n",
    "lr = 0.0025\n",
    "l2_reg_coeff = 0.0\n",
    "p_drop = 0.1  # Drop probability.\n",
    "n_affine_outputs = 5  # Number of affine outputs to maxout\n",
    "\n",
    "network = MaxoutFCN(784, 10, p_drop=p_drop, n_affine_outputs=n_affine_outputs)\n",
    "train_fcn(network, \"FCN+BN+Dropout+Maxout\", logger, lr=lr, l2_reg_coeff=l2_reg_coeff, epoch=15)"
   ]
  },
  {
   "cell_type": "markdown",
   "metadata": {},
   "source": [
    "We can compare the accuracies of the networks you trained so far. Run the cell below."
   ]
  },
  {
   "cell_type": "code",
   "execution_count": 225,
   "metadata": {},
   "outputs": [
    {
     "data": {
      "application/vnd.jupyter.widget-view+json": {
       "model_id": "abb9056bb05f46e8879e40df5f508b5e",
       "version_major": 2,
       "version_minor": 0
      },
      "text/plain": [
       "FigureWidget({\n",
       "    'data': [{'legendgroup': 'FCN+BN',\n",
       "              'line': {'color': '#636EFA', 'dash': 'dash'},\n",
       "              'mode': 'markers+lines',\n",
       "              'name': 'FCN+BN<br>train_accuracy',\n",
       "              'type': 'scatter',\n",
       "              'uid': 'e195c932-283a-444f-8b0e-0343fc97277a',\n",
       "              'x': array([ 0,  1,  2,  3,  4,  5,  6,  7,  8,  9, 10, 11, 12, 13, 14]),\n",
       "              'y': [0.42475, 0.5025, 0.54655, 0.59115, 0.6088, 0.621975, 0.637775,\n",
       "                    0.66095, 0.7038, 0.729775, 0.7377, 0.749375, 0.75995, 0.760525,\n",
       "                    0.7639]},\n",
       "             {'legendgroup': 'FCN+BN',\n",
       "              'line': {'color': '#636EFA', 'dash': 'dot'},\n",
       "              'mode': 'markers+lines',\n",
       "              'name': 'FCN+BN<br>eval_accuracy',\n",
       "              'type': 'scatter',\n",
       "              'uid': '5b523156-9e71-4af2-a2a9-5a44b078c95d',\n",
       "              'x': array([ 0,  1,  2,  3,  4,  5,  6,  7,  8,  9, 10, 11, 12, 13, 14]),\n",
       "              'y': [0.4955, 0.51915, 0.59385, 0.60485, 0.6197, 0.64475, 0.6551,\n",
       "                    0.6822, 0.71525, 0.7404, 0.753, 0.75835, 0.76075, 0.75795,\n",
       "                    0.767]},\n",
       "             {'legendgroup': 'FCN+BN+Dropout',\n",
       "              'line': {'color': '#EF553B', 'dash': 'dash'},\n",
       "              'mode': 'markers+lines',\n",
       "              'name': 'FCN+BN+Dropout<br>train_accuracy',\n",
       "              'type': 'scatter',\n",
       "              'uid': '97f51fb8-e8cf-4a1b-abe8-148101746e8a',\n",
       "              'x': array([ 0,  1,  2,  3,  4,  5,  6,  7,  8,  9, 10, 11, 12, 13, 14]),\n",
       "              'y': [0.47725, 0.530425, 0.56495, 0.575875, 0.6048, 0.68895,\n",
       "                    0.695525, 0.700475, 0.70525, 0.70795, 0.71275, 0.71135,\n",
       "                    0.71655, 0.71775, 0.717175]},\n",
       "             {'legendgroup': 'FCN+BN+Dropout',\n",
       "              'line': {'color': '#EF553B', 'dash': 'dot'},\n",
       "              'mode': 'markers+lines',\n",
       "              'name': 'FCN+BN+Dropout<br>eval_accuracy',\n",
       "              'type': 'scatter',\n",
       "              'uid': '6a30ab66-a045-44d0-9c40-bb1686e33d27',\n",
       "              'x': array([ 0,  1,  2,  3,  4,  5,  6,  7,  8,  9, 10, 11, 12, 13, 14]),\n",
       "              'y': [0.5639, 0.60645, 0.6199, 0.64375, 0.71625, 0.7496, 0.7582,\n",
       "                    0.76305, 0.76615, 0.7719, 0.776, 0.77485, 0.771, 0.77615,\n",
       "                    0.7752]},\n",
       "             {'legendgroup': 'FCN+BN+Dropout+Maxout',\n",
       "              'line': {'color': '#00CC96', 'dash': 'dash'},\n",
       "              'mode': 'markers+lines',\n",
       "              'name': 'FCN+BN+Dropout+Maxout<br>train_accuracy',\n",
       "              'type': 'scatter',\n",
       "              'uid': 'fb33f585-63ec-4867-a265-be6d39472d7b',\n",
       "              'x': array([ 0,  1,  2,  3,  4,  5,  6,  7,  8,  9, 10, 11, 12, 13, 14]),\n",
       "              'y': [0.63405, 0.755425, 0.781525, 0.79795, 0.8074, 0.816325,\n",
       "                    0.820825, 0.822475, 0.82755, 0.83115, 0.833625, 0.83825,\n",
       "                    0.84185, 0.84125, 0.844925]},\n",
       "             {'legendgroup': 'FCN+BN+Dropout+Maxout',\n",
       "              'line': {'color': '#00CC96', 'dash': 'dot'},\n",
       "              'mode': 'markers+lines',\n",
       "              'name': 'FCN+BN+Dropout+Maxout<br>eval_accuracy',\n",
       "              'type': 'scatter',\n",
       "              'uid': '0099c0c5-6c87-4981-8ed1-36facd483956',\n",
       "              'x': array([ 0,  1,  2,  3,  4,  5,  6,  7,  8,  9, 10, 11, 12, 13, 14]),\n",
       "              'y': [0.74965, 0.7984, 0.8134, 0.82215, 0.8232, 0.83515, 0.8382,\n",
       "                    0.84175, 0.8459, 0.8469, 0.8506, 0.85245, 0.8519, 0.8549,\n",
       "                    0.85565]}],\n",
       "    'layout': {'template': '...', 'title': {'text': 'Comparison'}, 'width': 800, 'xaxis': {'title': {'text': 'epoch'}}}\n",
       "})"
      ]
     },
     "execution_count": 225,
     "metadata": {},
     "output_type": "execute_result"
    }
   ],
   "source": [
    "log_names = [\"FCN+BN\", \"FCN+BN+Dropout\", \"FCN+BN+Dropout+Maxout\"]\n",
    "Logger.compare({net_name: f\"logs/{net_name}.json\" for net_name in log_names})"
   ]
  },
  {
   "cell_type": "markdown",
   "metadata": {},
   "source": [
    "Keep the log files in your submissions.\n",
    "\n",
    "## Report\n",
    "\n",
    "Report your observations about the above experiment. Write your comments below.\n",
    "\n"
   ]
  },
  {
   "cell_type": "markdown",
   "metadata": {},
   "source": []
  },
  {
   "cell_type": "markdown",
   "metadata": {},
   "source": [
    "### Testing\n",
    "\n",
    "Until this point, we did not use the test data. After the experiments, you probably have a preferred model and its hyperparameters. You can now run that model on the test data using the test data loader and create a confusion matrix. This confusion matrix represents the final performance."
   ]
  },
  {
   "cell_type": "code",
   "execution_count": null,
   "metadata": {},
   "outputs": [],
   "source": [
    "logger = Logger(verbose=False, live_figure_update=True)\n",
    "logger.render()"
   ]
  },
  {
   "cell_type": "code",
   "execution_count": null,
   "metadata": {},
   "outputs": [],
   "source": [
    "# Hyperparameters (You should tune these)\n",
    "lr = 0.0025\n",
    "l2_reg_coeff = 0.0\n",
    "\n",
    "# Define a model\n",
    "network = ?\n",
    "\n",
    "trainer = train_fcn(network, \"Final Model\", logger, lr=lr, l2_reg_coeff=l2_reg_coeff, epoch=25)\n",
    "predictions, labels = trainer.test(test_loader)\n",
    "confusion_matrix = trainer.confusion_matrix(predictions, labels)\n",
    "\n",
    "logger.render_confusion_matrix(confusion_matrix)\n"
   ]
  },
  {
   "cell_type": "markdown",
   "metadata": {},
   "source": [
    "\n",
    "## Report\n",
    "\n",
    "Explain why you choose the model and the hyperparameters you used in test. Write your comments below.\n",
    "\n"
   ]
  },
  {
   "cell_type": "markdown",
   "metadata": {},
   "source": []
  }
 ],
 "metadata": {
  "interpreter": {
   "hash": "6ee2ecf61b74c3b0e997a17b9194eac603566e9117375fa5485c0b29d12eba50"
  },
  "kernelspec": {
   "display_name": "Python 3 (ipykernel)",
   "language": "python",
   "name": "python3"
  },
  "language_info": {
   "codemirror_mode": {
    "name": "ipython",
    "version": 3
   },
   "file_extension": ".py",
   "mimetype": "text/x-python",
   "name": "python",
   "nbconvert_exporter": "python",
   "pygments_lexer": "ipython3",
   "version": "3.7.16"
  }
 },
 "nbformat": 4,
 "nbformat_minor": 2
}
